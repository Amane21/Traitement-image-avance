{
 "cells": [
  {
   "cell_type": "markdown",
   "metadata": {},
   "source": [
    "# Transformée quadratique 1D"
   ]
  },
  {
   "cell_type": "code",
   "execution_count": 1,
   "metadata": {},
   "outputs": [],
   "source": [
    "import numpy as np \n",
    "import math as math \n",
    "import matplotlib.pyplot as plt"
   ]
  },
  {
   "cell_type": "markdown",
   "metadata": {},
   "source": [
    "#### Question 1"
   ]
  },
  {
   "cell_type": "raw",
   "metadata": {},
   "source": [
    " ->Transformée quadratique directe\n",
    " ->en codant l'algorithme proposé sur les slides en Python, j'obtiens ce code. Certes j'obtiens pas le même résultat que ce que   vous avez eu  dans l'exemple proposé. Donc en se basant sur l'équation, je réctifie pour les valeurs aux bords et je mets une   boucle comme sur la cellule suivante.\n",
    " \n",
    " def quad_1d_directfct(n,u):\n",
    "     ##v = np.zeros(n)\n",
    "     v = np.copy(u)\n",
    "     v=v.astype(float)\n",
    "     w = np.copy(u)\n",
    "     w=w.astype(float)\n",
    "     vp = np.zeros(n,float)\n",
    "     ##vp = np.copy(u)\n",
    "     m = n    \n",
    "     while (m>1):  \n",
    "     \n",
    "     ################\n",
    "         ##les valeurs aux bords \n",
    "         \n",
    "         ##k=0\n",
    "         w[0]=(v[0]+v[1])/2\n",
    "         \n",
    "         ##k=m/2-1\n",
    "         w[int(m/2)-1]=(v[m-2]+v[m-1])/2\n",
    "         ##k=0\n",
    "         \n",
    "         w[int(m/2)]=(v[0]-v[1])/2  \n",
    "         \n",
    "         ##k=m/2-1\n",
    "         w[m-1]=(v[m-2]-v[m-1])/2 \n",
    "     ################\n",
    "         \n",
    "         for i in range (1,int(m/2)-1):\n",
    "             ##les valeurs moyennes\n",
    "             ###w[i]=(v[2*i]+v[2*i+1])/2\n",
    "             ##les valeurs prédites\n",
    "             vp[2*i]=w[i]-(1/8)*(w[i-1]-w[i+1])\n",
    "             ##print(w[i+1])           \n",
    "             ##l'erreur\n",
    "             w[i+int(m/2)]= v[2*i]-vp[2*i]            \n",
    "         for i in range (m):\n",
    "             v[i]=w[i]\n",
    "         ##print(v)\n",
    "         m=int(m/2)\n",
    "         v=[float(i) for i in v]\n",
    "     return v "
   ]
  },
  {
   "cell_type": "code",
   "execution_count": 2,
   "metadata": {},
   "outputs": [],
   "source": [
    "### Transformée quadratique directe\n",
    "\n",
    "def quad_1d_directfct(n,u):\n",
    "    ##v = np.zeros(n)\n",
    "    v = np.copy(u)\n",
    "    v=v.astype(float)\n",
    "    w = np.copy(u)\n",
    "    w=w.astype(float)\n",
    "    vp = np.zeros(n,float)\n",
    "    ##vp = np.copy(u)\n",
    "    m = n    \n",
    "    while (m>1):         \n",
    "      \n",
    "        for i in range (0,int(m/2)):\n",
    "           ##Les valeurs moyennes\n",
    "            w[i]=(v[2*i]+v[2*i+1])/2\n",
    "            ##Valeurs des erreurs aux bords\n",
    "            w[i+int(m/2)]= (v[2*i]-v[2*i+1])/2\n",
    "            \n",
    "        for i in range (1,int(m/2)-1):\n",
    "            ##les valeurs prédites\n",
    "            vp[2*i]=w[i]-(1/8)*(w[i-1]-w[i+1])          \n",
    "            ##l'erreur\n",
    "            w[i+int(m/2)]= v[2*i]-vp[2*i]   \n",
    "            \n",
    "        for i in range (m):\n",
    "            v[i]=w[i]\n",
    "       \n",
    "        m=int(m/2)\n",
    "        ##Pour garantir le fait d'avoir des valeurs sous format float\n",
    "        v=[float(i) for i in v]\n",
    "        \n",
    "    return v "
   ]
  },
  {
   "cell_type": "code",
   "execution_count": 3,
   "metadata": {},
   "outputs": [
    {
     "data": {
      "text/plain": [
       "[4.5, -2.0, -1.0, -1.0, -0.5, -1.0, -1.0, -0.5]"
      ]
     },
     "execution_count": 3,
     "metadata": {},
     "output_type": "execute_result"
    }
   ],
   "source": [
    "##test avant d'avancer sur le tp\n",
    "quad_1d_directfct(8,[1,2,3,4,5,6,7,8])"
   ]
  },
  {
   "cell_type": "code",
   "execution_count": 18,
   "metadata": {},
   "outputs": [],
   "source": [
    "##Transformée quadratique inverse\n",
    "\n",
    "def quad_inversefct(n,u):\n",
    "    v = np.zeros(n,float)\n",
    "    v = np.copy(u)\n",
    "    w = np.zeros(n,float)\n",
    "    ##w = np.copy(u)\n",
    "    vp = np.zeros(n,float)\n",
    "    ##vp = np.copy(u)\n",
    "    \n",
    "    m = 1\n",
    "    \n",
    "    while n > m:\n",
    "        \n",
    "        ##les valeurs aux bords\n",
    "        ## k=0\n",
    "        w[0]=v[0]+v[m]\n",
    "        w[1]=2*v[0]-w[0]\n",
    "        ## k=m-1\n",
    "        w[2*m-2]=v[m-1]+v[2*m-1]\n",
    "        w[2*m-1]=2*v[m-1]-w[2*m-2]\n",
    "        \n",
    "        for i in range (1,m-1):\n",
    "            ##les valeurs prédites\n",
    "            vp[2*i]=v[i]-(1/8)*(v[i-1]-v[i+1])\n",
    "            ##on ajoute l'erreur\n",
    "            w[2*i]=vp[2*i]+v[i+m]\n",
    "            w[2*i+1]= 2*v[i]-w[2*i]\n",
    "            ##w[2*i+1]= vp[2*i]-w[i+m]\n",
    "            \n",
    "        for i in range (2*m):\n",
    "            v[i]=w[i]\n",
    "            \n",
    "        m *= 2\n",
    "        ##Pour garantir le fait d'avoir des valeurs sous format float\n",
    "        v=[float(i) for i in v]\n",
    "        \n",
    "    return v"
   ]
  },
  {
   "cell_type": "code",
   "execution_count": 5,
   "metadata": {},
   "outputs": [
    {
     "data": {
      "text/plain": [
       "[1.0, 2.0, 3.0, 4.0, 5.0, 6.0, 7.0, 8.0]"
      ]
     },
     "execution_count": 5,
     "metadata": {},
     "output_type": "execute_result"
    }
   ],
   "source": [
    "##test de la transformée qudratique inverse\n",
    "quad_inversefct(8,[4.5,-2, -1, -1, -0.5, -1, -1, -0.5])"
   ]
  },
  {
   "cell_type": "markdown",
   "metadata": {},
   "source": [
    "#### Question 2"
   ]
  },
  {
   "cell_type": "code",
   "execution_count": 6,
   "metadata": {},
   "outputs": [],
   "source": [
    "##Définissons les exemples\n",
    "\n",
    "##ex1:  x[i]=i tel que i appartient à [1,n]\n",
    "def ex1(n): \n",
    "    x= np.zeros((n)) \n",
    "    for i in range (n): \n",
    "        x[i] = i+1\n",
    "    return x\n",
    "\n",
    "\n",
    "##Ligne d'une image\n",
    "#Soit la ligne img dont la taille est 64=2**6\n",
    "img = [78,15,47,96,12,45,125,147,12,58,78,45,12,12,47,15,48,78,210,45,87,95,21,36,78,147,63,78,111,46,85,21,74,36,52,52,52,14,174,175,177,68,71,68,74,111,46,85,21,74,36,52,52,52,14,174,175,177,68,71,68,74,7,6] \n",
    "\n",
    "\n",
    "##ex3\n",
    "def ex3(n): \n",
    "    v = np.zeros((n)) \n",
    "    pi = math.pi \n",
    "    for i in range(0,n): \n",
    "        if i <= n/2:\n",
    "            v[i]=math.sin(2*pi*i) \n",
    "        else: \n",
    "            v[i]=0.5+math.sin(2*pi*i) \n",
    "    return v\n",
    "\n"
   ]
  },
  {
   "cell_type": "code",
   "execution_count": 7,
   "metadata": {},
   "outputs": [],
   "source": [
    "size=64\n",
    "tab1 = ex1(size) \n",
    "tab3 = ex3(size)\n",
    "\n",
    "quad1 = quad_1d_directfct(size,tab1)\n",
    "quad2 = quad_1d_directfct(size,img)\n",
    "quad3 = quad_1d_directfct(size,tab3)"
   ]
  },
  {
   "cell_type": "code",
   "execution_count": 12,
   "metadata": {},
   "outputs": [
    {
     "name": "stdout",
     "output_type": "stream",
     "text": [
      "C'est vérifié pour le premier exemple\n"
     ]
    }
   ],
   "source": [
    "##Vérification de x=inverse(directe(x))\n",
    "##ex1\n",
    "result = all(map(lambda x, y: x == y, tab1, quad_inversefct(size,quad1)))\n",
    "if result:\n",
    "    print(\"C'est vérifié pour le premier exemple\")\n",
    "else:\n",
    "    print(\"Ce n'est pas vérifié pour le premier exemple\")\n"
   ]
  },
  {
   "cell_type": "code",
   "execution_count": 13,
   "metadata": {},
   "outputs": [
    {
     "name": "stdout",
     "output_type": "stream",
     "text": [
      "C'est vérifié pour le deuxième exemple\n"
     ]
    }
   ],
   "source": [
    "##Vérification de x=inverse(directe(x))\n",
    "##ex2\n",
    "result = all(map(lambda x, y: x == y, img, quad_inversefct(size,quad2)))\n",
    "if result:\n",
    "    print(\"C'est vérifié pour le deuxième exemple\")\n",
    "else:\n",
    "    print(\"Ce n'est pas vérifié pour le deuxième exemple\")"
   ]
  },
  {
   "cell_type": "code",
   "execution_count": 17,
   "metadata": {},
   "outputs": [
    {
     "name": "stdout",
     "output_type": "stream",
     "text": [
      "Ce n'est pas vérifié pour le troisième exemple\n"
     ]
    }
   ],
   "source": [
    "##Vérification de x=inverse(directe(x))\n",
    "##ex3\n",
    "result = all(map(lambda x, y: x == y, tab3, quad_inversefct(size,quad3)))\n",
    "if result:\n",
    "    print(\"C'est vérifié pour le troisième exemple\")\n",
    "else:\n",
    "    print(\"Ce n'est pas vérifié pour le troisième exemple\")"
   ]
  },
  {
   "cell_type": "markdown",
   "metadata": {},
   "source": [
    "# Transformée de haar 1D"
   ]
  },
  {
   "cell_type": "code",
   "execution_count": 1,
   "metadata": {},
   "outputs": [],
   "source": [
    "##On reprend le tp 1 pour pouvoir comparer les deux transformées\n",
    "\n",
    "\n",
    "##Transformée directe de Haar\n",
    "def haarl_1d_direction(n,u): \n",
    "    v = np.zeros(n,float)\n",
    "    v = np.copy(u)\n",
    "    v = v.astype(float)\n",
    "    w = np.zeros(n)\n",
    "    w = w.astype(float)\n",
    "    m = n\n",
    "    while m>1: \n",
    "        for i in range (int(m/2)):\n",
    "            w[i]=(v[2*i]+v[2*i+1])/2\n",
    "            w[i+int(m/2)]= (v[2*i]-v[2*i+1])/2\n",
    "        for i in range (m):\n",
    "            v[i]=w[i]\n",
    "        m=int(m/2)\n",
    "        v=[float(i) for i in v]\n",
    "    return v \n",
    "\n",
    "##Transformée inverse de Haar\n",
    "def haarl_1d_inverse(n,v): \n",
    "    u = np.zeros(n,float)\n",
    "    u = np.copy(v)\n",
    "    w = np.zeros(n)\n",
    "    w=w.astype(float)\n",
    "    \n",
    "    m = 2\n",
    "    while n >= m:\n",
    "        for i in range (int(m/2)):\n",
    "            w[2*i]=u[i]+u[i+int(m/2)]\n",
    "            w[2*i+1]= u[i]-u[i+int(m/2)]\n",
    "        for i in range (m):\n",
    "            u[i]=w[i]\n",
    "        m *= 2\n",
    "        u=[float(i) for i in u]\n",
    "    return u"
   ]
  },
  {
   "cell_type": "code",
   "execution_count": 43,
   "metadata": {},
   "outputs": [],
   "source": [
    "haar1 = haarl_1d_direction(size,tab1)\n",
    "haar2 = haarl_1d_direction(size,img)\n",
    "haar3 = haarl_1d_direction(size,tab3)"
   ]
  },
  {
   "cell_type": "markdown",
   "metadata": {},
   "source": [
    "#### Question 3"
   ]
  },
  {
   "cell_type": "code",
   "execution_count": 19,
   "metadata": {},
   "outputs": [],
   "source": [
    "##Définissons une fonction de seuillage\n",
    "def sueillage(x,T):\n",
    "    y= np.copy(x)\n",
    "    y[np.absolute(y)<=T]=0\n",
    "    return y"
   ]
  },
  {
   "cell_type": "code",
   "execution_count": 46,
   "metadata": {},
   "outputs": [
    {
     "name": "stdout",
     "output_type": "stream",
     "text": [
      "Transformée de Haar\n",
      "[ 32.5 -16.    0.    0.    0.    0.    0.    0.    0.    0.    0.    0.\n",
      "   0.    0.    0.    0.    0.    0.    0.    0.    0.    0.    0.    0.\n",
      "   0.    0.    0.    0.    0.    0.    0.    0.    0.    0.    0.    0.\n",
      "   0.    0.    0.    0.    0.    0.    0.    0.    0.    0.    0.    0.\n",
      "   0.    0.    0.    0.    0.    0.    0.    0.    0.    0.    0.    0.\n",
      "   0.    0.    0.    0. ]\n",
      "Transformée quadratique\n",
      "[ 32.5 -16.    0.    0.    0.    0.    0.    0.    0.    0.    0.    0.\n",
      "   0.    0.    0.    0.    0.    0.    0.    0.    0.    0.    0.    0.\n",
      "   0.    0.    0.    0.    0.    0.    0.    0.    0.    0.    0.    0.\n",
      "   0.    0.    0.    0.    0.    0.    0.    0.    0.    0.    0.    0.\n",
      "   0.    0.    0.    0.    0.    0.    0.    0.    0.    0.    0.    0.\n",
      "   0.    0.    0.    0. ]\n"
     ]
    }
   ],
   "source": [
    "## Pour le seuil T=12 -- ex1\n",
    "print('Transformée de Haar')\n",
    "print( sueillage(haar1,12))\n",
    "\n",
    "print('Transformée quadratique')\n",
    "print( sueillage(quad1,12))"
   ]
  },
  {
   "cell_type": "code",
   "execution_count": 45,
   "metadata": {},
   "outputs": [
    {
     "name": "stdout",
     "output_type": "stream",
     "text": [
      "Transformée de Haar\n",
      "[ 70.71875   0.      -12.625     0.       17.75      0.        0.\n",
      "   0.        0.       13.25     17.75     12.75    -25.        0.\n",
      " -13.75     42.      -12.5     -54.      -13.        0.      -32.\n",
      "  31.5      21.       12.5       0.      -70.5      26.5      13.5\n",
      "   0.      -21.       53.5      32.5      31.      -24.      -16.\n",
      "   0.      -23.       16.        0.       16.      -15.       82.\n",
      "   0.        0.      -34.        0.       32.       32.       19.\n",
      "   0.       19.        0.       54.        0.      -18.      -19.\n",
      " -26.        0.        0.      -80.        0.        0.        0.\n",
      "   0.     ]\n",
      "Transformée quadratique\n",
      "[ 70.984375   0.       -12.65625    0.        17.875      0.\n",
      "   0.         0.         0.        12.515625  12.28125   12.734375\n",
      " -26.234375   0.       -12.78125   42.       -12.5      -52.40625\n",
      "   0.       -15.375    -37.03125   31.71875   20.25      17.5\n",
      "   0.       -76.0625    29.59375   19.78125    0.       -30.625\n",
      "  57.53125   32.25      31.5      -22.25     -24.5625     0.\n",
      " -13.6875    19.375      0.         0.       -27.0625    79.\n",
      "   0.         0.       -39.75       0.        34.6875    34.9375\n",
      "  19.125      0.         0.         0.        67.625      0.\n",
      " -18.       -13.875    -23.8125     0.         0.       -95.5\n",
      "   0.         0.         0.         0.      ]\n"
     ]
    }
   ],
   "source": [
    "## Pour le seuil T=12 -- ex2\n",
    "print('Transformée de Haar')\n",
    "print( sueillage(haar2,12))\n",
    "\n",
    "print('Transformée quadratique')\n",
    "print( sueillage(quad2,12))"
   ]
  },
  {
   "cell_type": "code",
   "execution_count": 47,
   "metadata": {},
   "outputs": [
    {
     "name": "stdout",
     "output_type": "stream",
     "text": [
      "Transformée de Haar\n",
      "[0. 0. 0. 0. 0. 0. 0. 0. 0. 0. 0. 0. 0. 0. 0. 0. 0. 0. 0. 0. 0. 0. 0. 0.\n",
      " 0. 0. 0. 0. 0. 0. 0. 0. 0. 0. 0. 0. 0. 0. 0. 0. 0. 0. 0. 0. 0. 0. 0. 0.\n",
      " 0. 0. 0. 0. 0. 0. 0. 0. 0. 0. 0. 0. 0. 0. 0. 0.]\n",
      "Transformée quadratique\n",
      "[0. 0. 0. 0. 0. 0. 0. 0. 0. 0. 0. 0. 0. 0. 0. 0. 0. 0. 0. 0. 0. 0. 0. 0.\n",
      " 0. 0. 0. 0. 0. 0. 0. 0. 0. 0. 0. 0. 0. 0. 0. 0. 0. 0. 0. 0. 0. 0. 0. 0.\n",
      " 0. 0. 0. 0. 0. 0. 0. 0. 0. 0. 0. 0. 0. 0. 0. 0.]\n"
     ]
    }
   ],
   "source": [
    "## Pour le seuil T=12 -- ex3\n",
    "print('Transformée de Haar')\n",
    "print( sueillage(haar3,12))\n",
    "\n",
    "print('Transformée quadratique')\n",
    "print( sueillage(quad3,12))"
   ]
  },
  {
   "cell_type": "code",
   "execution_count": 48,
   "metadata": {},
   "outputs": [
    {
     "name": "stdout",
     "output_type": "stream",
     "text": [
      "Transformée de Haar\n",
      "[0. 0. 0. 0. 0. 0. 0. 0. 0. 0. 0. 0. 0. 0. 0. 0. 0. 0. 0. 0. 0. 0. 0. 0.\n",
      " 0. 0. 0. 0. 0. 0. 0. 0. 0. 0. 0. 0. 0. 0. 0. 0. 0. 0. 0. 0. 0. 0. 0. 0.\n",
      " 0. 0. 0. 0. 0. 0. 0. 0. 0. 0. 0. 0. 0. 0. 0. 0.]\n",
      "Transformée quadratique\n",
      "[0. 0. 0. 0. 0. 0. 0. 0. 0. 0. 0. 0. 0. 0. 0. 0. 0. 0. 0. 0. 0. 0. 0. 0.\n",
      " 0. 0. 0. 0. 0. 0. 0. 0. 0. 0. 0. 0. 0. 0. 0. 0. 0. 0. 0. 0. 0. 0. 0. 0.\n",
      " 0. 0. 0. 0. 0. 0. 0. 0. 0. 0. 0. 0. 0. 0. 0. 0.]\n"
     ]
    }
   ],
   "source": [
    "## Pour le seuil T=128 -- ex1\n",
    "print('Transformée de Haar')\n",
    "print( sueillage(haar1,128))\n",
    "\n",
    "print('Transformée quadratique')\n",
    "print( sueillage(quad1,128))"
   ]
  },
  {
   "cell_type": "code",
   "execution_count": 49,
   "metadata": {},
   "outputs": [
    {
     "name": "stdout",
     "output_type": "stream",
     "text": [
      "Transformée de Haar\n",
      "[0. 0. 0. 0. 0. 0. 0. 0. 0. 0. 0. 0. 0. 0. 0. 0. 0. 0. 0. 0. 0. 0. 0. 0.\n",
      " 0. 0. 0. 0. 0. 0. 0. 0. 0. 0. 0. 0. 0. 0. 0. 0. 0. 0. 0. 0. 0. 0. 0. 0.\n",
      " 0. 0. 0. 0. 0. 0. 0. 0. 0. 0. 0. 0. 0. 0. 0. 0.]\n",
      "Transformée quadratique\n",
      "[0. 0. 0. 0. 0. 0. 0. 0. 0. 0. 0. 0. 0. 0. 0. 0. 0. 0. 0. 0. 0. 0. 0. 0.\n",
      " 0. 0. 0. 0. 0. 0. 0. 0. 0. 0. 0. 0. 0. 0. 0. 0. 0. 0. 0. 0. 0. 0. 0. 0.\n",
      " 0. 0. 0. 0. 0. 0. 0. 0. 0. 0. 0. 0. 0. 0. 0. 0.]\n"
     ]
    }
   ],
   "source": [
    "## Pour le seuil T=128 -- ex2\n",
    "print('Transformée de Haar')\n",
    "print( sueillage(haar2,128))\n",
    "\n",
    "print('Transformée quadratique')\n",
    "print( sueillage(quad2,128))"
   ]
  },
  {
   "cell_type": "code",
   "execution_count": 50,
   "metadata": {},
   "outputs": [
    {
     "name": "stdout",
     "output_type": "stream",
     "text": [
      "Transformée de Haar\n",
      "[0. 0. 0. 0. 0. 0. 0. 0. 0. 0. 0. 0. 0. 0. 0. 0. 0. 0. 0. 0. 0. 0. 0. 0.\n",
      " 0. 0. 0. 0. 0. 0. 0. 0. 0. 0. 0. 0. 0. 0. 0. 0. 0. 0. 0. 0. 0. 0. 0. 0.\n",
      " 0. 0. 0. 0. 0. 0. 0. 0. 0. 0. 0. 0. 0. 0. 0. 0.]\n",
      "Transformée quadratique\n",
      "[0. 0. 0. 0. 0. 0. 0. 0. 0. 0. 0. 0. 0. 0. 0. 0. 0. 0. 0. 0. 0. 0. 0. 0.\n",
      " 0. 0. 0. 0. 0. 0. 0. 0. 0. 0. 0. 0. 0. 0. 0. 0. 0. 0. 0. 0. 0. 0. 0. 0.\n",
      " 0. 0. 0. 0. 0. 0. 0. 0. 0. 0. 0. 0. 0. 0. 0. 0.]\n"
     ]
    }
   ],
   "source": [
    "## Pour le seuil T=128 -- ex3\n",
    "print('Transformée de Haar')\n",
    "print( sueillage(haar3,128))\n",
    "\n",
    "print('Transformée quadratique')\n",
    "print( sueillage(quad3,128))"
   ]
  },
  {
   "cell_type": "code",
   "execution_count": 51,
   "metadata": {},
   "outputs": [],
   "source": [
    "#comme on prend pas de grandes valeurs dans nos exemples, on obtient des résultats pareils \n",
    "#pour la transfomée de Haar et quadratique\n",
    "#sauf au niveau du seuillage 12 appliqué à la ligne de l'image dont on avait des valeurs supérieures à 12 "
   ]
  },
  {
   "cell_type": "markdown",
   "metadata": {},
   "source": [
    "#### Question4"
   ]
  },
  {
   "cell_type": "code",
   "execution_count": 52,
   "metadata": {},
   "outputs": [],
   "source": [
    "#Calculons l'erreur entre deux vecteurs\n",
    "def normeL2(x,y): \n",
    "    if len(x)!=len(y): \n",
    "        print(\"Les deux vecteurs on des tailles différente\") \n",
    "    else: \n",
    "        n=len(x)\n",
    "        v=0 \n",
    "        for i in range(n): \n",
    "            v=v + np.square(np.absolute(x[i]-y[i])) \n",
    "            v= np.sqrt(v) \n",
    "    return v"
   ]
  },
  {
   "cell_type": "code",
   "execution_count": 53,
   "metadata": {},
   "outputs": [],
   "source": [
    "##Transformée quadratique\n",
    "quadS11 = quad_inversefct(size,sueillage(quad1,12))\n",
    "quadS12 = quad_inversefct(size,sueillage(quad1,128))\n",
    "\n",
    "quadS21 = quad_inversefct(size,sueillage(quad2,12))\n",
    "quadS22 = quad_inversefct(size,sueillage(quad2,128))\n",
    "\n",
    "quadS31 = quad_inversefct(size,sueillage(quad3,12))\n",
    "quadS32 = quad_inversefct(size,sueillage(quad3,128))\n",
    "\n",
    "##Transformée de Haar\n",
    "haarS11 = haarl_1d_inverse(size,sueillage(haar1,12))\n",
    "haarS12 = haarl_1d_inverse(size,sueillage(haar1,128))\n",
    "\n",
    "haarS21 = haarl_1d_inverse(size,sueillage(haar2,12))\n",
    "haarS22 = haarl_1d_inverse(size,sueillage(haar2,128))\n",
    "\n",
    "haarS31 = haarl_1d_inverse(size,sueillage(haar3,12))\n",
    "haarS32 = haarl_1d_inverse(size,sueillage(haar3,128))"
   ]
  },
  {
   "cell_type": "code",
   "execution_count": 54,
   "metadata": {},
   "outputs": [
    {
     "name": "stdout",
     "output_type": "stream",
     "text": [
      "Transformée de Haar\n",
      "15.975733093747309\n",
      "Transformée quadratique\n",
      "15.975740780802537\n"
     ]
    }
   ],
   "source": [
    "##ex1 -- Seuil = 12\n",
    "print('Transformée de Haar')\n",
    "print( normeL2(tab1,haarS11))\n",
    "\n",
    "print('Transformée quadratique')\n",
    "print( normeL2(tab1,quadS11))"
   ]
  },
  {
   "cell_type": "code",
   "execution_count": 55,
   "metadata": {},
   "outputs": [
    {
     "name": "stdout",
     "output_type": "stream",
     "text": [
      "Transformée de Haar\n",
      "64.49413962970115\n",
      "Transformée quadratique\n",
      "64.49413962970115\n"
     ]
    }
   ],
   "source": [
    "##ex1 -- Seuil = 128\n",
    "print('Transformée de Haar')\n",
    "print( normeL2(tab1,haarS12))\n",
    "\n",
    "print('Transformée quadratique')\n",
    "print( normeL2(tab1,quadS12))"
   ]
  },
  {
   "cell_type": "code",
   "execution_count": 56,
   "metadata": {},
   "outputs": [
    {
     "name": "stdout",
     "output_type": "stream",
     "text": [
      "Transformée de Haar\n",
      "10.346225133367161\n",
      "Transformée quadratique\n",
      "9.818640175602113\n"
     ]
    }
   ],
   "source": [
    "##ex2 -- Seuil = 12\n",
    "print('Transformée de Haar')\n",
    "print( normeL2(img,haarS21))\n",
    "\n",
    "print('Transformée quadratique')\n",
    "print( normeL2(img,quadS21))"
   ]
  },
  {
   "cell_type": "code",
   "execution_count": 57,
   "metadata": {},
   "outputs": [
    {
     "name": "stdout",
     "output_type": "stream",
     "text": [
      "Transformée de Haar\n",
      "6.863769056658209\n",
      "Transformée quadratique\n",
      "6.863769056658209\n"
     ]
    }
   ],
   "source": [
    "##ex2 -- Seuil = 128\n",
    "print('Transformée de Haar')\n",
    "print( normeL2(img,haarS22))\n",
    "\n",
    "print('Transformée quadratique')\n",
    "print( normeL2(img,quadS22))"
   ]
  },
  {
   "cell_type": "code",
   "execution_count": 58,
   "metadata": {},
   "outputs": [
    {
     "name": "stdout",
     "output_type": "stream",
     "text": [
      "Transformée de Haar\n",
      "1.207106781186242\n",
      "Transformée quadratique\n",
      "1.207106781186242\n"
     ]
    }
   ],
   "source": [
    "##ex3 -- Seuil = 12\n",
    "print('Transformée de Haar')\n",
    "print( normeL2(tab3,haarS31))\n",
    "\n",
    "print('Transformée quadratique')\n",
    "print( normeL2(tab3,quadS31))"
   ]
  },
  {
   "cell_type": "code",
   "execution_count": 59,
   "metadata": {},
   "outputs": [
    {
     "name": "stdout",
     "output_type": "stream",
     "text": [
      "Transformée de Haar\n",
      "1.207106781186242\n",
      "Transformée quadratique\n",
      "1.207106781186242\n"
     ]
    }
   ],
   "source": [
    "##ex3 -- Seuil = 128\n",
    "print('Transformée de Haar')\n",
    "print( normeL2(tab3,haarS32))\n",
    "\n",
    "print('Transformée quadratique')\n",
    "print( normeL2(tab3,quadS32))"
   ]
  },
  {
   "cell_type": "code",
   "execution_count": 60,
   "metadata": {},
   "outputs": [],
   "source": [
    "# En comparant les résultats, on remarque qu'on obtient les mêmes valeurs sauf qu'on le seuil est définit à 12.\n",
    "# Dans ce cas-lâ, l'erreur est plus petite en utilisant la transformée quadratique qu'en utilisant la transformée de Haar."
   ]
  },
  {
   "cell_type": "markdown",
   "metadata": {},
   "source": [
    "#### Question 5"
   ]
  },
  {
   "cell_type": "code",
   "execution_count": 61,
   "metadata": {},
   "outputs": [
    {
     "data": {
      "image/png": "[encoded data removed]",
      "text/plain": [
       "<Figure size 432x288 with 1 Axes>"
      ]
     },
     "metadata": {
      "needs_background": "light"
     },
     "output_type": "display_data"
    }
   ],
   "source": [
    "##ex1\n",
    "t = ex1(128) ##2**7\n",
    "tab4 = np.zeros((128))\n",
    "\n",
    "for i in range(128):\n",
    "  tab4[i-1] = normeL2(tab1,quad_inversefct(size,sueillage(quad1,i)))\n",
    "\n",
    "plt.scatter(t,tab4)\n",
    "plt.title('Qualité de reconstruction de la transformée quadratique en fonction de sueillage')\n",
    "plt.xlabel('Seuil')\n",
    "plt.ylabel('Erreur')\n",
    "plt.show()"
   ]
  },
  {
   "cell_type": "code",
   "execution_count": 62,
   "metadata": {},
   "outputs": [
    {
     "data": {
      "image/png": "[encoded data removed]",
      "text/plain": [
       "<Figure size 432x288 with 1 Axes>"
      ]
     },
     "metadata": {
      "needs_background": "light"
     },
     "output_type": "display_data"
    }
   ],
   "source": [
    "##ex1\n",
    "t = ex1(128)\n",
    "tab4 = np.zeros((128))\n",
    "\n",
    "for i in range(128):\n",
    "  tab4[i-1] = normeL2(tab1,haarl_1d_inverse(size,sueillage(haar1,i)))\n",
    "\n",
    "plt.scatter(t,tab4)\n",
    "plt.title('Qualité de reconstruction de haarl en fonction de sueillage')\n",
    "plt.xlabel('Sueil')\n",
    "plt.ylabel('Erreur')\n",
    "plt.show()"
   ]
  },
  {
   "cell_type": "code",
   "execution_count": 63,
   "metadata": {},
   "outputs": [
    {
     "data": {
      "image/png": "[encoded data removed]",
      "text/plain": [
       "<Figure size 432x288 with 1 Axes>"
      ]
     },
     "metadata": {
      "needs_background": "light"
     },
     "output_type": "display_data"
    }
   ],
   "source": [
    "##ex2\n",
    "t = ex1(128) ##2**7\n",
    "tab4 = np.zeros((128))\n",
    "\n",
    "for i in range(128):\n",
    "  tab4[i-1] = normeL2(img,quad_inversefct(size,sueillage(quad2,i)))\n",
    "\n",
    "plt.scatter(t,tab4)\n",
    "plt.title('Qualité de reconstruction de la transformée quadratique en fonction de sueillage')\n",
    "plt.xlabel('Sueil')\n",
    "plt.ylabel('Erreur')\n",
    "plt.show()"
   ]
  },
  {
   "cell_type": "code",
   "execution_count": 65,
   "metadata": {},
   "outputs": [
    {
     "data": {
      "image/png": "[encoded data removed]",
      "text/plain": [
       "<Figure size 432x288 with 1 Axes>"
      ]
     },
     "metadata": {
      "needs_background": "light"
     },
     "output_type": "display_data"
    }
   ],
   "source": [
    "##ex2\n",
    "t = ex1(128)\n",
    "tab4 = np.zeros((128))\n",
    "\n",
    "for i in range(128):\n",
    "  tab4[i-1] = normeL2(img,haarl_1d_inverse(size,sueillage(haar2,i)))\n",
    "\n",
    "plt.scatter(t,tab4)\n",
    "plt.title('Qualité de reconstruction de haarl en fonction de sueillage')\n",
    "plt.xlabel('Sueil')\n",
    "plt.ylabel('Erreur')\n",
    "plt.show()"
   ]
  },
  {
   "cell_type": "code",
   "execution_count": 66,
   "metadata": {},
   "outputs": [
    {
     "data": {
      "image/png": "[encoded data removed]",
      "text/plain": [
       "<Figure size 432x288 with 1 Axes>"
      ]
     },
     "metadata": {
      "needs_background": "light"
     },
     "output_type": "display_data"
    }
   ],
   "source": [
    "##ex3\n",
    "t = ex1(128) ##2**7\n",
    "tab4 = np.zeros((128))\n",
    "\n",
    "for i in range(128):\n",
    "  tab4[i-1] = normeL2(tab3,quad_inversefct(size,sueillage(quad3,i)))\n",
    "\n",
    "plt.scatter(t,tab4)\n",
    "plt.title('Qualité de reconstruction de la transformée quadratique en fonction de sueillage')\n",
    "plt.xlabel('Sueil')\n",
    "plt.ylabel('Erreur')\n",
    "plt.show()"
   ]
  },
  {
   "cell_type": "code",
   "execution_count": 67,
   "metadata": {},
   "outputs": [
    {
     "data": {
      "image/png": "[encoded data removed]",
      "text/plain": [
       "<Figure size 432x288 with 1 Axes>"
      ]
     },
     "metadata": {
      "needs_background": "light"
     },
     "output_type": "display_data"
    }
   ],
   "source": [
    "##ex3\n",
    "t = ex1(128)\n",
    "tab4 = np.zeros((128))\n",
    "\n",
    "for i in range(128):\n",
    "  tab4[i-1] = normeL2(tab3,haarl_1d_inverse(size,sueillage(haar3,i)))\n",
    "\n",
    "plt.scatter(t,tab4)\n",
    "plt.title('Qualité de reconstruction de haarl en fonction de sueillage')\n",
    "plt.xlabel('Sueil')\n",
    "plt.ylabel('Erreur')\n",
    "plt.show()"
   ]
  },
  {
   "cell_type": "code",
   "execution_count": null,
   "metadata": {},
   "outputs": [],
   "source": [
    "##En comparant les courbes, on remarque qu'elles sont pareilles.\n",
    "##Sauf pour le cas du vecteur img, on remarque une petite différence autour du seuil 12. Ceci est dû aux valeurs choisies dans img."
   ]
  }
 ],
 "metadata": {
  "kernelspec": {
   "display_name": "Python 3",
   "language": "python",
   "name": "python3"
  },
  "language_info": {
   "codemirror_mode": {
    "name": "ipython",
    "version": 3
   },
   "file_extension": ".py",
   "mimetype": "text/x-python",
   "name": "python",
   "nbconvert_exporter": "python",
   "pygments_lexer": "ipython3",
   "version": "3.8.5"
  }
 },
 "nbformat": 4,
 "nbformat_minor": 4
}
