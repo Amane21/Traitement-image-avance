{
 "cells": [
  {
   "cell_type": "markdown",
   "metadata": {},
   "source": [
    "# Transformées multi-échelles 2D"
   ]
  },
  {
   "cell_type": "code",
   "execution_count": 5,
   "metadata": {},
   "outputs": [],
   "source": [
    "import numpy as np \n",
    "import math as math \n",
    "import matplotlib.pyplot as plt"
   ]
  },
  {
   "cell_type": "code",
   "execution_count": 6,
   "metadata": {},
   "outputs": [],
   "source": [
    "import import_ipynb\n",
    "#import TP2_ASSANI_TIA"
   ]
  },
  {
   "cell_type": "markdown",
   "metadata": {},
   "source": [
    "### Transformation de Haar multi-échelle"
   ]
  },
  {
   "cell_type": "code",
   "execution_count": 388,
   "metadata": {},
   "outputs": [],
   "source": [
    "######## Transformée directe de Haar 1D ########\n",
    "def haarl_1d_directe(n,u):\n",
    "    v = np.zeros(n,float)\n",
    "    v = np.copy(u)\n",
    "    v = v.astype(float)\n",
    "    \n",
    "    w = np.zeros(n,float)\n",
    "    w = w.astype(float)\n",
    "    \n",
    "    m = n\n",
    "    \n",
    "    #while m>1: \n",
    "    for i in range (int(m/2)):\n",
    "        w[i]=(v[2*i]+v[2*i+1])/2\n",
    "        w[i+int(m/2)]= (v[2*i]-v[2*i+1])/2\n",
    "\n",
    "    for i in range (m):\n",
    "        v[i]=w[i]\n",
    "\n",
    "    #m=int(m/2)\n",
    "         \n",
    "        \n",
    "        \n",
    "    return v "
   ]
  },
  {
   "cell_type": "code",
   "execution_count": 8,
   "metadata": {},
   "outputs": [],
   "source": [
    "######## Transformée Directe de Haar 2D ########\n",
    "\n",
    "##supposons qu'on a une matrice de taille n*n\n",
    "\n",
    "def haar_2d_directe(n,u):\n",
    "    v = np.zeros((n,n))\n",
    "    v = np.copy(u)\n",
    "    v = v.astype(float)\n",
    "    #v.shape\n",
    "    w = np.zeros((n,n))\n",
    "    w = w.astype(float)\n",
    "    #w.shape\n",
    "    \n",
    "    m = n\n",
    "    \n",
    "    while m>1:\n",
    "    \n",
    "    #Traitement par ligne\n",
    "        for i in range (m):\n",
    "            w[i,:] = haarl_1d_directe(m,v[i,:])\n",
    "                \n",
    "        v = np.copy(w)   \n",
    "            \n",
    "        #Traitement par colonne\n",
    "        for i in range (m):\n",
    "            w[:,i] = haarl_1d_directe(m,v[:,i])\n",
    "            #print(i)\n",
    "            #print(w[i,:])\n",
    "            \n",
    "        v = np.copy(w)\n",
    "        #print(m)\n",
    "        #print(v)\n",
    "        \n",
    "        m=int(m/2)\n",
    "        #v=[float(i) for i in v]\n",
    "    return v   "
   ]
  },
  {
   "cell_type": "code",
   "execution_count": 9,
   "metadata": {},
   "outputs": [
    {
     "data": {
      "text/plain": [
       "array([ 1.5,  3.5,  5.5,  7.5, -0.5, -0.5, -0.5, -0.5])"
      ]
     },
     "execution_count": 9,
     "metadata": {},
     "output_type": "execute_result"
    }
   ],
   "source": [
    "haarl_1d_directe(8,[1,2,3,4,5,6,7,8])"
   ]
  },
  {
   "cell_type": "code",
   "execution_count": 10,
   "metadata": {},
   "outputs": [
    {
     "name": "stdout",
     "output_type": "stream",
     "text": [
      "[[ 4.5 -2.  -1.  -1.  -0.5 -0.5 -0.5 -0.5]\n",
      " [ 0.   0.  -1.  -1.  -0.5 -0.5 -0.5 -0.5]\n",
      " [ 0.   0.   0.   0.  -0.5 -0.5 -0.5 -0.5]\n",
      " [ 0.   0.   0.   0.  -0.5 -0.5 -0.5 -0.5]\n",
      " [ 0.   0.   0.   0.   0.   0.   0.   0. ]\n",
      " [ 0.   0.   0.   0.   0.   0.   0.   0. ]\n",
      " [ 0.   0.   0.   0.   0.   0.   0.   0. ]\n",
      " [ 0.   0.   0.   0.   0.   0.   0.   0. ]]\n"
     ]
    }
   ],
   "source": [
    "l=np.array([[1,2,3,4,5,6,7,8],[1,2,3,4,5,6,7,8],[1,2,3,4,5,6,7,8],[1,2,3,4,5,6,7,8],[1,2,3,4,5,6,7,8],[1,2,3,4,5,6,7,8],[1,2,3,4,5,6,7,8],[1,2,3,4,5,6,7,8]])\n",
    "print(haar_2d_directe(8,l))"
   ]
  },
  {
   "cell_type": "code",
   "execution_count": 11,
   "metadata": {},
   "outputs": [
    {
     "name": "stdout",
     "output_type": "stream",
     "text": [
      "[[ 68.125  -4.375   2.5   -20.   ]\n",
      " [ -4.375  -1.875  -8.      5.   ]\n",
      " [ 17.5    35.     22.5   -25.   ]\n",
      " [  0.      1.    -12.    -11.   ]]\n"
     ]
    }
   ],
   "source": [
    "x=[[100,50,60,150],[20,60,40,30],[50,90,70,82],[74,66,90,58]]\n",
    "print(haar_2d_directe(4,x))"
   ]
  },
  {
   "cell_type": "code",
   "execution_count": 122,
   "metadata": {
    "scrolled": true
   },
   "outputs": [
    {
     "name": "stdout",
     "output_type": "stream",
     "text": [
      "<class 'list'>\n"
     ]
    }
   ],
   "source": [
    "print(type(x))"
   ]
  },
  {
   "cell_type": "code",
   "execution_count": 246,
   "metadata": {},
   "outputs": [],
   "source": [
    "######## Transformée Inverse de Haar 1D ########\n",
    "\n",
    "def haar_1d_inverse(n,v): \n",
    "    #u = np.zeros(n,float)\n",
    "    u = np.copy(v)\n",
    "    u = u.astype(float)\n",
    "    \n",
    "    w = np.zeros(n,float)\n",
    "    w = w.astype(float)\n",
    "    \n",
    "    m = n\n",
    "    #m=2\n",
    "    #while n >= m:\n",
    "    for i in range (int(m/2)):\n",
    "        w[2*i]=u[i]+u[i+int(m/2)]\n",
    "        w[2*i+1]= u[i]-u[i+int(m/2)]\n",
    "    for i in range (0,m):\n",
    "        u[i]=w[i]\n",
    "    #m *= 2\n",
    "\n",
    "        \n",
    "    return u"
   ]
  },
  {
   "cell_type": "code",
   "execution_count": 215,
   "metadata": {},
   "outputs": [
    {
     "data": {
      "text/plain": [
       "array([2., 2., 0., 2., 3., 5., 4., 4.])"
      ]
     },
     "execution_count": 215,
     "metadata": {},
     "output_type": "execute_result"
    }
   ],
   "source": [
    "haar_1d_inverse(8,[2.75, -1.25, 0.5, 0.0, 0.0, -1.0, -1.0, 0.0])"
   ]
  },
  {
   "cell_type": "code",
   "execution_count": 216,
   "metadata": {},
   "outputs": [
    {
     "data": {
      "text/plain": [
       "array([1., 2., 3., 4., 5., 6., 7., 8.])"
      ]
     },
     "execution_count": 216,
     "metadata": {},
     "output_type": "execute_result"
    }
   ],
   "source": [
    "haar_1d_inverse(8,[4.5,-2,-1,-1,-0.5,-0.5,-0.5,-0.5])"
   ]
  },
  {
   "cell_type": "code",
   "execution_count": 400,
   "metadata": {},
   "outputs": [],
   "source": [
    "######## Transformée Inverse 2D ########\n",
    "\n",
    "##supposons qu'on a une matrice de taille n*n\n",
    "def haar_2d_inverse(n,u):\n",
    "    v = np.zeros((n,n),float)\n",
    "    v = np.copy(u)\n",
    "    #v = v.astype(float)\n",
    "    \n",
    "    w = np.zeros((n,n))\n",
    "    w = w.astype(float)\n",
    "    \n",
    "    \n",
    "    m = 2\n",
    "    \n",
    "    while n >= m:\n",
    "    \n",
    "        #Traitement par colonne\n",
    "        for i in range (0,m):\n",
    "            w[:,i] = haar_1d_inverse(m,v[:,i])\n",
    "                \n",
    "        v = np.copy(w)   \n",
    "        #print(m)\n",
    "        #print(v)\n",
    "        \n",
    "        #Traitement par ligne\n",
    "        for i in range (0,m):\n",
    "            w[i,:] = haar_1d_inverse(m,v[i,:])\n",
    "            \n",
    "        v = np.copy(w)\n",
    "        #print(m)\n",
    "        #print(v)\n",
    "        \n",
    "        m = 2*m\n",
    "        \n",
    "    return v   "
   ]
  },
  {
   "cell_type": "code",
   "execution_count": 254,
   "metadata": {},
   "outputs": [
    {
     "name": "stdout",
     "output_type": "stream",
     "text": [
      "2\n",
      "[[2.5 6.5 0.  0.  0.  0.  0.  0. ]\n",
      " [2.5 6.5 0.  0.  0.  0.  0.  0. ]\n",
      " [0.  0.  0.  0.  0.  0.  0.  0. ]\n",
      " [0.  0.  0.  0.  0.  0.  0.  0. ]\n",
      " [0.  0.  0.  0.  0.  0.  0.  0. ]\n",
      " [0.  0.  0.  0.  0.  0.  0.  0. ]\n",
      " [0.  0.  0.  0.  0.  0.  0.  0. ]\n",
      " [0.  0.  0.  0.  0.  0.  0.  0. ]]\n",
      "4\n",
      "[[2.5 2.5 6.5 6.5 0.  0.  0.  0. ]\n",
      " [2.5 2.5 6.5 6.5 0.  0.  0.  0. ]\n",
      " [2.5 2.5 6.5 6.5 0.  0.  0.  0. ]\n",
      " [2.5 2.5 6.5 6.5 0.  0.  0.  0. ]\n",
      " [0.  0.  0.  0.  0.  0.  0.  0. ]\n",
      " [0.  0.  0.  0.  0.  0.  0.  0. ]\n",
      " [0.  0.  0.  0.  0.  0.  0.  0. ]\n",
      " [0.  0.  0.  0.  0.  0.  0.  0. ]]\n",
      "8\n",
      "[[2.5 2.5 2.5 2.5 6.5 6.5 6.5 6.5]\n",
      " [2.5 2.5 2.5 2.5 6.5 6.5 6.5 6.5]\n",
      " [2.5 2.5 2.5 2.5 6.5 6.5 6.5 6.5]\n",
      " [2.5 2.5 2.5 2.5 6.5 6.5 6.5 6.5]\n",
      " [2.5 2.5 2.5 2.5 6.5 6.5 6.5 6.5]\n",
      " [2.5 2.5 2.5 2.5 6.5 6.5 6.5 6.5]\n",
      " [2.5 2.5 2.5 2.5 6.5 6.5 6.5 6.5]\n",
      " [2.5 2.5 2.5 2.5 6.5 6.5 6.5 6.5]]\n",
      "[[2.5 2.5 2.5 2.5 6.5 6.5 6.5 6.5]\n",
      " [2.5 2.5 2.5 2.5 6.5 6.5 6.5 6.5]\n",
      " [2.5 2.5 2.5 2.5 6.5 6.5 6.5 6.5]\n",
      " [2.5 2.5 2.5 2.5 6.5 6.5 6.5 6.5]\n",
      " [2.5 2.5 2.5 2.5 6.5 6.5 6.5 6.5]\n",
      " [2.5 2.5 2.5 2.5 6.5 6.5 6.5 6.5]\n",
      " [2.5 2.5 2.5 2.5 6.5 6.5 6.5 6.5]\n",
      " [2.5 2.5 2.5 2.5 6.5 6.5 6.5 6.5]]\n"
     ]
    }
   ],
   "source": [
    "l=np.array([[4.5,-2,-1,-1,-0.5,-0.5,-0.5,-0.5],[0,0,-1,-1,-0.5,-0.5,-0.5,-0.5],[0,0,0,0,-0.5,-0.5,-0.5,-0.5],[0,0,0,0,-0.5,-0.5,-0.5,-0.5],[0,0,0,0,0,0,0,0],[0,0,0,0,0,0,0,0],[0,0,0,0,0,0,0,0],[0,0,0,0,0,0,0,0]])\n",
    "print(haar_2d_inverse(8,l))"
   ]
  },
  {
   "cell_type": "code",
   "execution_count": 143,
   "metadata": {},
   "outputs": [
    {
     "name": "stdout",
     "output_type": "stream",
     "text": [
      "Ce n'est pas vérifié pour la Transformée de Haar 2D\n"
     ]
    }
   ],
   "source": [
    "##Vérification de x=inverse(directe(x))\n",
    "size=8\n",
    "img=np.array([[1,2,3,4,5,6,7,8],[1,2,3,4,5,6,7,8],[1,2,3,4,5,6,7,8],[1,2,3,4,5,6,7,8],[1,2,3,4,5,6,7,8],[1,2,3,4,5,6,7,8],[1,2,3,4,5,6,7,8],[1,2,3,4,5,6,7,8]])\n",
    "\n",
    "\n",
    "result = all(map(lambda x, y: (x == y).all(), img, haar_2d_inverse(size,haar_2d_directe(size,img))))\n",
    "if result:\n",
    "    print(\"C'est vérifié pour la Transformée de Haar 2D\")\n",
    "else:\n",
    "    print(\"Ce n'est pas vérifié pour la Transformée de Haar 2D\")"
   ]
  },
  {
   "cell_type": "markdown",
   "metadata": {},
   "source": [
    "### Transformation quadratique multi-échelle"
   ]
  },
  {
   "cell_type": "code",
   "execution_count": 417,
   "metadata": {},
   "outputs": [],
   "source": [
    "######## Transformée Directe 1D ########\n",
    "\n",
    "def quad_1d_directfct(n,u):\n",
    "    ##v = np.zeros(n)\n",
    "    v = np.copy(u)\n",
    "    v = v.astype(float)\n",
    "    w = np.copy(u)\n",
    "    w = w.astype(float)\n",
    "    vp = np.zeros(n,float)\n",
    "    vp = vp.astype(float)\n",
    "    m = n            \n",
    "      \n",
    "    for i in range (0,int(m/2)):\n",
    "        ##Les valeurs moyennes\n",
    "        w[i]=(v[2*i]+v[2*i+1])/2\n",
    "        ##Valeurs des erreurs aux bords\n",
    "        w[i+int(m/2)]= (v[2*i]-v[2*i+1])/2\n",
    "            \n",
    "    for i in range (1,int(m/2)-1):\n",
    "        ##les valeurs prédites\n",
    "        vp[2*i]=w[i]-(1/8)*(w[i-1]-w[i+1])          \n",
    "        ##l'erreur\n",
    "        w[i+int(m/2)]= v[2*i]-vp[2*i]   \n",
    "            \n",
    "    for i in range (m):\n",
    "        v[i]=w[i]\n",
    "       \n",
    "    #m=int(m/2)\n",
    "    ##Pour garantir le fait d'avoir des valeurs sous format float\n",
    "    #v=[float(i) for i in v]\n",
    "        \n",
    "    return v "
   ]
  },
  {
   "cell_type": "code",
   "execution_count": 418,
   "metadata": {},
   "outputs": [],
   "source": [
    "######## Transformée Directe 2D ########\n",
    "\n",
    "##supposons qu'on a une matrice de taille n*n\n",
    "\n",
    "def quad_2d_directe(n,u):\n",
    "    v = np.zeros((n,n))\n",
    "    v = np.copy(u)\n",
    "    v = v.astype(float)\n",
    "    #v.shape\n",
    "    w = np.zeros((n,n))\n",
    "    w = w.astype(float)\n",
    "    #w.shape\n",
    "    \n",
    "    m = n\n",
    "    \n",
    "    while m>1:\n",
    "    \n",
    "    #Traitement par ligne\n",
    "        for i in range (m):\n",
    "            w[i,:] = quad_1d_directfct(m,v[i,:])\n",
    "                \n",
    "        v = np.copy(w)   \n",
    "            \n",
    "        #Traitement par colonne\n",
    "        for i in range (m):\n",
    "            w[:,i] = quad_1d_directfct(m,v[:,i])\n",
    "            #print(i)\n",
    "            #print(w[i,:])\n",
    "            \n",
    "        v = np.copy(w)\n",
    "        #print(m)\n",
    "        #print(v)\n",
    "        \n",
    "        m=int(m/2)\n",
    "        #v=[float(i) for i in v]\n",
    "    return v   "
   ]
  },
  {
   "cell_type": "code",
   "execution_count": 419,
   "metadata": {},
   "outputs": [
    {
     "name": "stdout",
     "output_type": "stream",
     "text": [
      "[[ 4.5 -2.  -1.  -1.  -0.5 -1.  -1.  -0.5]\n",
      " [ 0.   0.  -1.  -1.  -0.5 -1.  -1.  -0.5]\n",
      " [ 0.   0.   0.   0.  -0.5 -1.  -1.  -0.5]\n",
      " [ 0.   0.   0.   0.  -0.5 -1.  -1.  -0.5]\n",
      " [ 0.   0.   0.   0.   0.   0.   0.   0. ]\n",
      " [ 0.   0.   0.   0.   0.   0.   0.   0. ]\n",
      " [ 0.   0.   0.   0.   0.   0.   0.   0. ]\n",
      " [ 0.   0.   0.   0.   0.   0.   0.   0. ]]\n"
     ]
    }
   ],
   "source": [
    "l=np.array([[1,2,3,4,5,6,7,8],[1,2,3,4,5,6,7,8],[1,2,3,4,5,6,7,8],[1,2,3,4,5,6,7,8],[1,2,3,4,5,6,7,8],[1,2,3,4,5,6,7,8],[1,2,3,4,5,6,7,8],[1,2,3,4,5,6,7,8]])\n",
    "print(quad_2d_directe(8,l))"
   ]
  },
  {
   "cell_type": "code",
   "execution_count": 441,
   "metadata": {},
   "outputs": [],
   "source": [
    "######## Transformée Inverse 1D ########\n",
    "\n",
    "def quad_inversefct(n,u):\n",
    "    v = np.zeros(n,float)\n",
    "    v = np.copy(u)\n",
    "    v = v.astype(float)\n",
    "    \n",
    "    w = np.zeros(n,float)\n",
    "    w = w.astype(float)\n",
    "    \n",
    "    vp = np.zeros(n,float)\n",
    "    vp = vp.astype(float)\n",
    "    \n",
    "    \n",
    "    m = n // 2\n",
    "    \n",
    "    #while n > m:\n",
    "        \n",
    "    ##les valeurs aux bords\n",
    "    ## k=0\n",
    "    w[0]=v[0]+v[m]\n",
    "    w[1]=2*v[0]-w[0]\n",
    "    ## k=m-1\n",
    "    w[2*m-2]=v[m-1]+v[2*m-1]\n",
    "    w[2*m-1]=2*v[m-1]-w[2*m-2]\n",
    "\n",
    "    for i in range (1,m-1):\n",
    "        ##les valeurs prédites\n",
    "        vp[2*i]=v[i]-(1/8)*(v[i-1]-v[i+1])\n",
    "        ##on ajoute l'erreur\n",
    "        w[2*i]=vp[2*i]+v[i+m]\n",
    "        w[2*i+1]= 2*v[i]-w[2*i]\n",
    "        ##w[2*i+1]= vp[2*i]-w[i+m]\n",
    "\n",
    "    for i in range (2*m):\n",
    "        v[i]=w[i]\n",
    "\n",
    "    #m *= 2\n",
    "        \n",
    "    return v\n"
   ]
  },
  {
   "cell_type": "code",
   "execution_count": 452,
   "metadata": {},
   "outputs": [],
   "source": [
    "##Transformée Quadratique Inverse 2D\n",
    "\n",
    "##supposons qu'on a une matrice de taille n*n\n",
    "\n",
    "def quad_2d_inverse(n,u):\n",
    "    v = np.zeros((n,n))\n",
    "    v = np.copy(u)\n",
    "    v = v.astype(float)\n",
    "    \n",
    "    w = np.zeros((n,n))\n",
    "    w = w.astype(float)\n",
    "    \n",
    "    \n",
    "    m = 2\n",
    "    \n",
    "    while m <= n:\n",
    "    \n",
    "     #Traitement par colonne\n",
    "        for i in range (m):\n",
    "            w[:,i] = quad_inversefct(m,v[:,i])\n",
    "                \n",
    "        v = np.copy(w)   \n",
    "            \n",
    "        #Traitement par ligne\n",
    "        for i in range (m):\n",
    "            w[i,:] = quad_inversefct(m,v[i,:])\n",
    "             \n",
    "        v = np.copy(w)\n",
    "        #print(m)\n",
    "        #print(v)\n",
    "        \n",
    "        m = 2*m\n",
    "        \n",
    "    return v "
   ]
  },
  {
   "cell_type": "code",
   "execution_count": 453,
   "metadata": {},
   "outputs": [
    {
     "name": "stdout",
     "output_type": "stream",
     "text": [
      "Ce n'est pas vérifié pour la Transformée Quadratique 2D\n"
     ]
    }
   ],
   "source": [
    "##Vérification de x=inverse(directe(x))\n",
    "size=8\n",
    "img=np.array([[1,2,3,4,5,6,7,8],[1,2,3,4,5,6,7,8],[1,2,3,4,5,6,7,8],[1,2,3,4,5,6,7,8],[1,2,3,4,5,6,7,8],[1,2,3,4,5,6,7,8],[1,2,3,4,5,6,7,8],[1,2,3,4,5,6,7,8]])\n",
    "\n",
    "\n",
    "result = all(map(lambda x, y: (x == y).all(), img, quad_2d_inverse(size,quad_2d_directe(size,img))))\n",
    "if result:\n",
    "    print(\"C'est vérifié pour la Transformée Quadratique 2D\")\n",
    "else:\n",
    "    print(\"Ce n'est pas vérifié pour la Transformée Quadratique 2D\")"
   ]
  },
  {
   "cell_type": "markdown",
   "metadata": {},
   "source": [
    "##### Transforméé quadratique ENO "
   ]
  },
  {
   "cell_type": "code",
   "execution_count": 281,
   "metadata": {},
   "outputs": [],
   "source": [
    "######## Transformée Directe 1D ########\n",
    "\n",
    "def quad_1d_eno_directe(n,u):\n",
    "    v = np.zeros(n,float)\n",
    "    v = np.copy(u)\n",
    "    v = v.astype(float)\n",
    "    \n",
    "    w = np.zeros(n,float)\n",
    "    w = w.astype(float)\n",
    "    \n",
    "    vp = np.zeros(n,float)\n",
    "    vp = vp.astype(float)\n",
    "    \n",
    "    m = n\n",
    "    \n",
    "    #while m>1: \n",
    "    ##Calcul des valeurs moyennes\n",
    "    for i in range (int(m/2)):\n",
    "        w[i]=(v[2*i]+v[2*i+1])/2\n",
    "\n",
    "    ##Calcul des valeurs aux bords\n",
    "\n",
    "    #i=0\n",
    "    w[int(m/2)]= (v[0]-v[1])/2\n",
    "    #i=1\n",
    "    #w[1+int(m/2)]= (v[2]-v[3])/2\n",
    "\n",
    "    #i=int(m/2)-2\n",
    "    w[m-2]= (v[2*(int(m/2)-2)]-v[2*int(m/2)-3])/2\n",
    "    #i=int(m/2)-1\n",
    "    w[m-1]= (v[2*(int(m/2)-1)]-v[2*int(m/2)-1])/2\n",
    "    \n",
    "    ##Calcul des valeurs prédites vp\n",
    "    ##Calcul des différences finies\n",
    "    for i in range (2,int(m/2)-2):  \n",
    "        c = abs(w[i-1]-w[i])+abs(w[i]-w[i+1])\n",
    "        g = abs(w[i-2]-w[i-1])+abs(w[i]-w[i-1])\n",
    "        d = abs(w[i+2]-w[i+1])+abs(w[i]-w[i+1])\n",
    "        m = min(c,d,g)\n",
    "        if(c == d == g):\n",
    "            m = c\n",
    "            vp[2*i] = w[i]-(1/8)*(w[i-1]-w[i+1])\n",
    "        else: \n",
    "            if(m == c):\n",
    "                vp[2*i] = w[i]-(1/8)*(w[i-1]-w[i+1])\n",
    "            if(m == g):\n",
    "                vp[2*i] = w[i]-(1/8)*(w[i-1]-w[i+1])\n",
    "            if(m == d):\n",
    "                vp[2*i] = w[i]-(1/8)*(w[i-1]-w[i+1])\n",
    "\n",
    "        ##L'erreur\n",
    "        w[i+int(m/2)] = v[2*i]-vp[2*i]\n",
    "\n",
    "    for i in range (m):\n",
    "        v[i]=w[i]\n",
    "\n",
    "    #m=int(m/2)\n",
    "          \n",
    "    return v "
   ]
  },
  {
   "cell_type": "code",
   "execution_count": 328,
   "metadata": {},
   "outputs": [],
   "source": [
    "######## Transformée Directe 2D ########\n",
    "\n",
    "##supposons qu'on a une matrice de taille n*n\n",
    "\n",
    "def quad_2d_eno_directe(n,u):\n",
    "    v = np.zeros((n,n))\n",
    "    v = np.copy(u)\n",
    "    v = v.astype(float)\n",
    "\n",
    "    w = np.zeros((n,n))\n",
    "    w = w.astype(float)\n",
    "    \n",
    "    m = n\n",
    "    \n",
    "    while m>1:\n",
    "    \n",
    "    #Traitement par ligne\n",
    "        for i in range (m):\n",
    "            w[i,:] = quad_1d_eno_directe(m,v[i,:])\n",
    "                \n",
    "        v = np.copy(w)   \n",
    "            \n",
    "        #Traitement par colonne\n",
    "        for i in range (m):\n",
    "            w[:,i] = quad_1d_eno_directe(m,v[:,i])\n",
    "            #print(i)\n",
    "            #print(w[i,:])\n",
    "            \n",
    "        v = np.copy(w)\n",
    "        #print(m)\n",
    "        #print(v)\n",
    "        \n",
    "        m=int(m/2)\n",
    "        #v=[float(i) for i in v]\n",
    "    return v "
   ]
  },
  {
   "cell_type": "code",
   "execution_count": 284,
   "metadata": {},
   "outputs": [
    {
     "name": "stdout",
     "output_type": "stream",
     "text": [
      "[[ 1.5  3.5  5.5  7.5 -0.5  0.  -0.5 -0.5]\n",
      " [ 1.5  3.5  5.5  7.5 -0.5  0.  -0.5 -0.5]\n",
      " [ 1.5  3.5  5.5  7.5 -0.5  0.  -0.5 -0.5]\n",
      " [ 1.5  3.5  5.5  7.5 -0.5  0.  -0.5 -0.5]\n",
      " [ 0.   0.   0.   0.   0.   0.   0.   0. ]\n",
      " [ 0.   0.   0.   0.   0.   0.   0.   0. ]\n",
      " [ 0.   0.   0.   0.   0.   0.   0.   0. ]\n",
      " [ 0.   0.   0.   0.   0.   0.   0.   0. ]]\n",
      "[[ 2.5  6.5 -1.  -1.  -0.5  0.  -0.5 -0.5]\n",
      " [ 2.5  6.5 -1.  -1.  -0.5  0.  -0.5 -0.5]\n",
      " [ 0.   0.   0.   0.  -0.5  0.  -0.5 -0.5]\n",
      " [ 0.   0.   0.   0.  -0.5  0.  -0.5 -0.5]\n",
      " [ 0.   0.   0.   0.   0.   0.   0.   0. ]\n",
      " [ 0.   0.   0.   0.   0.   0.   0.   0. ]\n",
      " [ 0.   0.   0.   0.   0.   0.   0.   0. ]\n",
      " [ 0.   0.   0.   0.   0.   0.   0.   0. ]]\n",
      "[[ 0.   0.  -1.  -1.  -0.5  0.  -0.5 -0.5]\n",
      " [ 0.   0.  -1.  -1.  -0.5  0.  -0.5 -0.5]\n",
      " [ 0.   0.   0.   0.  -0.5  0.  -0.5 -0.5]\n",
      " [ 0.   0.   0.   0.  -0.5  0.  -0.5 -0.5]\n",
      " [ 0.   0.   0.   0.   0.   0.   0.   0. ]\n",
      " [ 0.   0.   0.   0.   0.   0.   0.   0. ]\n",
      " [ 0.   0.   0.   0.   0.   0.   0.   0. ]\n",
      " [ 0.   0.   0.   0.   0.   0.   0.   0. ]]\n",
      "[[ 0.   0.  -1.  -1.  -0.5  0.  -0.5 -0.5]\n",
      " [ 0.   0.  -1.  -1.  -0.5  0.  -0.5 -0.5]\n",
      " [ 0.   0.   0.   0.  -0.5  0.  -0.5 -0.5]\n",
      " [ 0.   0.   0.   0.  -0.5  0.  -0.5 -0.5]\n",
      " [ 0.   0.   0.   0.   0.   0.   0.   0. ]\n",
      " [ 0.   0.   0.   0.   0.   0.   0.   0. ]\n",
      " [ 0.   0.   0.   0.   0.   0.   0.   0. ]\n",
      " [ 0.   0.   0.   0.   0.   0.   0.   0. ]]\n"
     ]
    }
   ],
   "source": [
    "l=np.array([[1,2,3,4,5,6,7,8],[1,2,3,4,5,6,7,8],[1,2,3,4,5,6,7,8],[1,2,3,4,5,6,7,8],[1,2,3,4,5,6,7,8],[1,2,3,4,5,6,7,8],[1,2,3,4,5,6,7,8],[1,2,3,4,5,6,7,8]])\n",
    "print(quad_2d_eno_directe(8,l))"
   ]
  },
  {
   "cell_type": "code",
   "execution_count": 364,
   "metadata": {},
   "outputs": [],
   "source": [
    "######## Transformée Inverse 1D ########\n",
    "\n",
    "def quad_1d_eno_inverse(n,u):\n",
    "    v = np.zeros(n,float)\n",
    "    v = np.copy(u)\n",
    "    v = v.astype(float)\n",
    "    \n",
    "    w = np.zeros(n,float)\n",
    "    w = w.astype(float)\n",
    "    \n",
    "    vp = np.zeros(n,float)\n",
    "    vp = vp.astype(float)\n",
    "    \n",
    "    m = n\n",
    "    \n",
    "    #while m<n: \n",
    "    \n",
    "\n",
    "    ##Calcul des valeurs aux bords\n",
    "    \n",
    "     ##Calcul des valeurs aux bords\n",
    "    #for i in range (0,1):\n",
    "    #i=0\n",
    "    w[0]= v[0]+v[m]\n",
    "    #w[2*i+1]= 2*v[i]-w[2*i]\n",
    "    #for i in range (m-2,m):\n",
    "    #i=m-2\n",
    "    #w[2*i]= v[i]+v[i+m]\n",
    "    #w[2*i+1]= 2*v[i]-w[2*i]\n",
    "        \n",
    "    ##Calcul des valeurs prédites vp\n",
    "    ##Calcul des différences finies\n",
    "    for i in range (2,m-2):  \n",
    "        c = abs(v[i-1]-v[i])+abs(v[i]-v[i+1])\n",
    "        g = abs(v[i-2]-v[i-1])+abs(v[i]-v[i-1])\n",
    "        d = abs(v[i+2]-v[i+1])+abs(v[i]-v[i+1])\n",
    "        m = min(c,d,g)\n",
    "        if(c == d == g):\n",
    "            m = c\n",
    "            vp[2*i] = v[i]-(1/8)*(v[i-1]-v[i+1])\n",
    "        else: \n",
    "            if(m == c):\n",
    "                vp[2*i] = v[i]-(1/8)*(v[i-1]-v[i+1])\n",
    "            if(m == g):\n",
    "                vp[2*i] = (5/8)*v[i]+(1/2)*v[i-1]-(1/8)*v[i-2]\n",
    "            if(m == d):\n",
    "                vp[2*i] = (11/8)*v[i]-(1/2)*v[i+1]+(1/8)*v[i+2]\n",
    "\n",
    "        ##On ajoute l'erreur\n",
    "        w[2*i] = vp[2*i]+v[i+m]\n",
    "        \n",
    "        #On calcule w[2*i+1] en utilisant la relation de consistence\n",
    "        w[2*i+1] = 2*v[i]-w[2*i]\n",
    "\n",
    "    for i in range (m):\n",
    "        v[i]=w[i]\n",
    "        \n",
    "\n",
    "    #m = 2*m\n",
    "          \n",
    "    return v "
   ]
  },
  {
   "cell_type": "code",
   "execution_count": 365,
   "metadata": {},
   "outputs": [],
   "source": [
    "######## Transformée Inverse 2D ########\n",
    "\n",
    "##supposons qu'on a une matrice de taille n*n\n",
    "\n",
    "def quad_2d_eno_inverse(n,u):\n",
    "    v = np.zeros((n,n))\n",
    "    v = np.copy(u)\n",
    "    v = v.astype(float)\n",
    "    \n",
    "    w = np.zeros((n,n))\n",
    "    w = w.astype(float)\n",
    "    \n",
    "    \n",
    "    m = 2\n",
    "    \n",
    "    while m<=n:\n",
    "    \n",
    "     #Traitement par colonne\n",
    "        for i in range (m):\n",
    "            w[:,i] = quad_1d_eno_inverse(m,v[:,i])\n",
    "                \n",
    "        v = np.copy(w)   \n",
    "            \n",
    "        #Traitement par ligne\n",
    "        for i in range (m):\n",
    "            w[i,:] = quad_1d_eno_inverse(m,v[i,:])\n",
    "            \n",
    "        v = np.copy(w)\n",
    "        #print(m)\n",
    "        #print(v)\n",
    "        \n",
    "        m = 2*m\n",
    "        \n",
    "    return v "
   ]
  },
  {
   "cell_type": "code",
   "execution_count": 366,
   "metadata": {},
   "outputs": [
    {
     "name": "stdout",
     "output_type": "stream",
     "text": [
      "Ce n'est pas vérifié pour la Transformée Quadratique ENO 2D\n"
     ]
    }
   ],
   "source": [
    "##Vérification de x=inverse(directe(x))\n",
    "size=8\n",
    "img=np.array([[1,2,3,4,5,6,7,8],[1,2,3,4,5,6,7,8],[1,2,3,4,5,6,7,8],[1,2,3,4,5,6,7,8],[1,2,3,4,5,6,7,8],[1,2,3,4,5,6,7,8],[1,2,3,4,5,6,7,8],[1,2,3,4,5,6,7,8]])\n",
    "\n",
    "\n",
    "result = all(map(lambda x, y: (x == y).all(), img, quad_2d_eno_inverse(size,quad_2d_eno_directe(size,img))))\n",
    "if result:\n",
    "    print(\"C'est vérifié pour la Transformée Quadratique ENO 2D\")\n",
    "else:\n",
    "    print(\"Ce n'est pas vérifié pour la Transformée Quadratique ENO 2D\")"
   ]
  },
  {
   "cell_type": "code",
   "execution_count": 376,
   "metadata": {},
   "outputs": [
    {
     "name": "stdout",
     "output_type": "stream",
     "text": [
      "[[-0.43514551 -0.65598307 -0.17874365 -1.38582885  0.28497582 -0.74939321\n",
      "   0.43387393 -0.472377  ]\n",
      " [ 0.81952958  0.61458176  0.55323512  0.89321869  1.09532024  1.38668339\n",
      "  -0.17551924  0.257077  ]\n",
      " [-0.72965525 -0.41141255  1.58052165  0.18544275  0.91534019 -1.95871565\n",
      "  -1.63607566 -0.01979588]\n",
      " [ 1.34787906  0.16613568 -2.67210851  0.64334364  0.29236229 -0.6788335\n",
      "  -1.16733253  0.43158959]\n",
      " [-1.88963215 -0.92102917  1.22383795 -0.61287763  0.17860833 -1.08108541\n",
      "   0.12612021  0.71355015]\n",
      " [-0.87631902  1.66919918 -1.08763398 -0.36959693 -0.36684403  1.52423813\n",
      "  -0.61800147 -0.3770894 ]\n",
      " [-0.10920875  0.38159226 -0.26113578  0.84985182 -1.16144931 -0.09649373\n",
      "   2.73009899 -1.17167842]\n",
      " [ 1.83886292 -0.87204175 -1.49483439 -1.78942056 -1.53078115 -0.61027066\n",
      "   0.40279941  1.34360374]]\n"
     ]
    },
    {
     "data": {
      "text/plain": [
       "(8, 8)"
      ]
     },
     "execution_count": 376,
     "metadata": {},
     "output_type": "execute_result"
    }
   ],
   "source": [
    "#Bruit Gaussien **moyenne=0  **ecart-type=1\n",
    "noise = np.random.normal(0, 1, (8,8)) \n",
    "print(noise)\n",
    "noise.shape\n"
   ]
  },
  {
   "cell_type": "code",
   "execution_count": 377,
   "metadata": {},
   "outputs": [
    {
     "name": "stdout",
     "output_type": "stream",
     "text": [
      "[[244.56485449 231.34401693 148.82125635 152.61417115 155.28497582\n",
      "  153.25060679 155.43387393 154.527623  ]\n",
      " [240.81952958 222.61458176 149.55323512 154.89321869 156.09532024\n",
      "  155.38668339 154.82448076 155.257077  ]\n",
      " [234.27034475 231.58858745 150.58052165 154.18544275 150.91534019\n",
      "  148.04128435 153.36392434 154.98020412]\n",
      " [236.34787906 232.16613568 147.32789149 154.64334364 155.29236229\n",
      "  153.3211665  153.83266747 155.43158959]\n",
      " [231.11036785 220.07897083 150.22383795 152.38712237 155.17860833\n",
      "  152.91891459 155.12612021 155.71355015]\n",
      " [224.12368098 213.66919918 142.91236602 153.63040307 150.63315597\n",
      "  155.52423813 154.38199853 154.6229106 ]\n",
      " [224.89079125 212.38159226 148.73886422 152.84985182 153.83855069\n",
      "  153.90350627 157.73009899 153.82832158]\n",
      " [226.83886292 201.12795825 147.50516561 150.21057944 150.46921885\n",
      "  153.38972934 155.40279941 156.34360374]]\n"
     ]
    }
   ],
   "source": [
    "#Image de taille 8*8\n",
    "img=np.array([[245,232,149,154,155,154,155,155],[240,222,149,154,155,154,155,155],[235,232,149,154,150,150,155,155],[235,232,150,154,155,154,155,155],[233,221,149,153,155,154,155,155],[225,212,144,154,151,154,155,155],[225,212,149,152,155,154,155,155],[225,202,149,152,152,154,155,155]])\n",
    "\n",
    "#On ajoute le bruit à l'image\n",
    "img_with_noise = img + noise\n",
    "print(img_with_noise)"
   ]
  },
  {
   "cell_type": "code",
   "execution_count": 379,
   "metadata": {},
   "outputs": [],
   "source": [
    "##Seuillage \n",
    "def seuillage(x,T):\n",
    "    y= np.copy(x)\n",
    "    y[np.absolute(y)<=T]=0\n",
    "    return y"
   ]
  },
  {
   "cell_type": "code",
   "execution_count": 454,
   "metadata": {},
   "outputs": [
    {
     "name": "stdout",
     "output_type": "stream",
     "text": [
      "Seuil : 12\n",
      "[[171.546875  17.296875  41.25       0.         0.         0.\n",
      "    0.         0.      ]\n",
      " [  0.         0.        34.5625     0.         0.         0.\n",
      "    0.         0.      ]\n",
      " [  0.         0.         0.         0.         0.         0.\n",
      "    0.         0.      ]\n",
      " [  0.         0.         0.         0.         0.         0.\n",
      "    0.         0.      ]\n",
      " [  0.         0.         0.         0.         0.         0.\n",
      "    0.         0.      ]\n",
      " [  0.         0.         0.         0.         0.         0.\n",
      "    0.         0.      ]\n",
      " [  0.         0.         0.         0.         0.         0.\n",
      "    0.         0.      ]\n",
      " [  0.         0.         0.         0.         0.         0.\n",
      "    0.         0.      ]]\n",
      "Seuil : 60\n",
      "[[171.546875   0.         0.         0.         0.         0.\n",
      "    0.         0.      ]\n",
      " [  0.         0.         0.         0.         0.         0.\n",
      "    0.         0.      ]\n",
      " [  0.         0.         0.         0.         0.         0.\n",
      "    0.         0.      ]\n",
      " [  0.         0.         0.         0.         0.         0.\n",
      "    0.         0.      ]\n",
      " [  0.         0.         0.         0.         0.         0.\n",
      "    0.         0.      ]\n",
      " [  0.         0.         0.         0.         0.         0.\n",
      "    0.         0.      ]\n",
      " [  0.         0.         0.         0.         0.         0.\n",
      "    0.         0.      ]\n",
      " [  0.         0.         0.         0.         0.         0.\n",
      "    0.         0.      ]]\n",
      "Seuil : 128\n",
      "[[171.546875   0.         0.         0.         0.         0.\n",
      "    0.         0.      ]\n",
      " [  0.         0.         0.         0.         0.         0.\n",
      "    0.         0.      ]\n",
      " [  0.         0.         0.         0.         0.         0.\n",
      "    0.         0.      ]\n",
      " [  0.         0.         0.         0.         0.         0.\n",
      "    0.         0.      ]\n",
      " [  0.         0.         0.         0.         0.         0.\n",
      "    0.         0.      ]\n",
      " [  0.         0.         0.         0.         0.         0.\n",
      "    0.         0.      ]\n",
      " [  0.         0.         0.         0.         0.         0.\n",
      "    0.         0.      ]\n",
      " [  0.         0.         0.         0.         0.         0.\n",
      "    0.         0.      ]]\n"
     ]
    }
   ],
   "source": [
    "print(\"Seuil : 12\")\n",
    "print(seuillage(haar2d,12))\n",
    "print(\"Seuil : 60\")\n",
    "print(seuillage(haar2d,60))\n",
    "print(\"Seuil : 128\")\n",
    "print(seuillage(haar2d,128))"
   ]
  },
  {
   "cell_type": "code",
   "execution_count": null,
   "metadata": {},
   "outputs": [],
   "source": [
    "##Les coefficients gardés sont localisés au nord ouest de la matrice et plus précisément à i=0 et j=0"
   ]
  },
  {
   "cell_type": "code",
   "execution_count": 392,
   "metadata": {},
   "outputs": [],
   "source": [
    "#Calculons l'erreur entre deux matrices\n",
    "def normeL2(x,y): \n",
    "    if x.shape!=y.shape: \n",
    "        print(\"Les deux matrices ont des tailles différentes\") \n",
    "    else:\n",
    "        v=0 \n",
    "        for i in range(x.shape[0]): \n",
    "            for j in range(x.shape[1]): \n",
    "                v=v + np.square(np.absolute(x[i][j]-y[i][j])) \n",
    "        v= np.sqrt(v) \n",
    "    return v"
   ]
  },
  {
   "cell_type": "code",
   "execution_count": 393,
   "metadata": {},
   "outputs": [],
   "source": [
    "##ex1:  x[i]=i tel que i appartient à [1,n]\n",
    "def ex1(n): \n",
    "    x= np.zeros((n)) \n",
    "    for i in range (n): \n",
    "        x[i] = i+1\n",
    "    return x"
   ]
  },
  {
   "cell_type": "markdown",
   "metadata": {},
   "source": [
    "##### Transformée de Haar"
   ]
  },
  {
   "cell_type": "code",
   "execution_count": 405,
   "metadata": {},
   "outputs": [],
   "source": [
    "haar2d = haar_2d_directe(size,img)"
   ]
  },
  {
   "cell_type": "code",
   "execution_count": 406,
   "metadata": {},
   "outputs": [
    {
     "data": {
      "image/png": "[encoded data removed]",
      "text/plain": [
       "<Figure size 432x288 with 1 Axes>"
      ]
     },
     "metadata": {
      "needs_background": "light"
     },
     "output_type": "display_data"
    }
   ],
   "source": [
    "t = ex1(128)\n",
    "tab4 = np.zeros((128))\n",
    "\n",
    "for i in range(128):\n",
    "  tab4[i-1] = normeL2(img,haar_2d_inverse(size,seuillage(haar2d,i)))\n",
    "\n",
    "plt.scatter(t,tab4)\n",
    "plt.title('Qualité de reconstruction de haar en fonction de seuillage')\n",
    "plt.xlabel('Seuil')\n",
    "plt.ylabel('Erreur')\n",
    "plt.show()"
   ]
  },
  {
   "cell_type": "code",
   "execution_count": null,
   "metadata": {},
   "outputs": [],
   "source": [
    "##Quand le seuil est supérieur à 18, l'erreur est maximale"
   ]
  },
  {
   "cell_type": "markdown",
   "metadata": {},
   "source": [
    "##### Transformée Quadratique"
   ]
  },
  {
   "cell_type": "code",
   "execution_count": 398,
   "metadata": {},
   "outputs": [],
   "source": [
    "quad2d = quad_2d_directe(size,img)"
   ]
  },
  {
   "cell_type": "code",
   "execution_count": 407,
   "metadata": {},
   "outputs": [
    {
     "data": {
      "image/png": "[encoded data removed]",
      "text/plain": [
       "<Figure size 432x288 with 1 Axes>"
      ]
     },
     "metadata": {
      "needs_background": "light"
     },
     "output_type": "display_data"
    }
   ],
   "source": [
    "t = ex1(128) ##2**7\n",
    "tab4 = np.zeros((128))\n",
    "\n",
    "for i in range(128):\n",
    "  tab4[i-1] = normeL2(img,quad_2d_inverse(size,seuillage(quad2d,i)))\n",
    "\n",
    "plt.scatter(t,tab4)\n",
    "plt.title('Qualité de reconstruction de la transformée quadratique en fonction de seuillage')\n",
    "plt.xlabel('Seuil')\n",
    "plt.ylabel('Erreur')\n",
    "plt.show()"
   ]
  },
  {
   "cell_type": "code",
   "execution_count": null,
   "metadata": {},
   "outputs": [],
   "source": []
  }
 ],
 "metadata": {
  "kernelspec": {
   "display_name": "Python 3",
   "language": "python",
   "name": "python3"
  },
  "language_info": {
   "codemirror_mode": {
    "name": "ipython",
    "version": 3
   },
   "file_extension": ".py",
   "mimetype": "text/x-python",
   "name": "python",
   "nbconvert_exporter": "python",
   "pygments_lexer": "ipython3",
   "version": "3.8.5"
  }
 },
 "nbformat": 4,
 "nbformat_minor": 4
}
